{
 "cells": [
  {
   "cell_type": "markdown",
   "metadata": {},
   "source": [
    "1.A recipe you are reading states how many grams you need for the ingredient. Unfortunately, your store only sells items in ounces. Create a function to convert grams to ounces. ounces = 28.3495231 * grams"
   ]
  },
  {
   "cell_type": "code",
   "execution_count": 1,
   "metadata": {},
   "outputs": [
    {
     "name": "stdout",
     "output_type": "stream",
     "text": [
      "grams to ounces =  2.8924648824163115\n"
     ]
    }
   ],
   "source": [
    "def ounces(gram):\n",
    "    ounces = gram / 28.3495231\n",
    "    print(\"grams to ounces = \" , ounces)\n",
    "ounces(82)\n"
   ]
  },
  {
   "cell_type": "markdown",
   "metadata": {},
   "source": [
    "2.Read in a Fahrenheit temperature. Calculate and display the equivalent centigrade temperature. The following formula is used for the conversion: C = (5 / 9) * (F – 32)"
   ]
  },
  {
   "cell_type": "code",
   "execution_count": 2,
   "metadata": {},
   "outputs": [
    {
     "name": "stdout",
     "output_type": "stream",
     "text": [
      "equivalent centigrade temperature =  0.0\n"
     ]
    }
   ],
   "source": [
    "def fahrenheit(F):\n",
    "    C = (5 / 9) * (F - 32)\n",
    "    print(\"equivalent centigrade temperature = \" , C)\n",
    "\n",
    "fahrenheit(32)"
   ]
  },
  {
   "cell_type": "markdown",
   "metadata": {},
   "source": [
    "3.Write a program to solve a classic puzzle: We count 35 heads and 94 legs among the chickens and rabbits in a farm. How many rabbits and how many chickens do we have? create function: solve(numheads, numlegs):"
   ]
  },
  {
   "cell_type": "code",
   "execution_count": 3,
   "metadata": {},
   "outputs": [
    {
     "name": "stdout",
     "output_type": "stream",
     "text": [
      "Rabbits - 12.0, chickens - 23.0\n"
     ]
    }
   ],
   "source": [
    "def solve(numheads, numlegs):\n",
    "    chickens = (4 * numheads - numlegs) / 2\n",
    "    rabbits = numheads - chickens\n",
    "    print(f\"Rabbits - {rabbits}, chickens - {chickens}\")\n",
    "\n",
    "solve(35,94)"
   ]
  },
  {
   "cell_type": "markdown",
   "metadata": {},
   "source": [
    "4.You are given list of numbers separated by spaces. Write a function filter_prime which will take list of numbers as an agrument and returns only prime numbers from the list."
   ]
  },
  {
   "cell_type": "code",
   "execution_count": 4,
   "metadata": {},
   "outputs": [
    {
     "name": "stdout",
     "output_type": "stream",
     "text": [
      "5 is prime number\n",
      "2 is prime number\n",
      "2 is prime number\n",
      "3 is prime number\n",
      "5 is prime number\n"
     ]
    }
   ],
   "source": [
    "def filter_prime(nums):\n",
    "    numbers = list(map(int, nums.split(\" \")))\n",
    "    for i in numbers:\n",
    "        sumdivisors = 0\n",
    "        for j in range(2,int(i**0.5) + 1):\n",
    "            if (i % j == 0):\n",
    "                sumdivisors += 1\n",
    "        if (sumdivisors == 0):\n",
    "            print(f\"{i} is prime number\")\n",
    "\n",
    "filter_prime(\"5 4 2 2 4 6 6 4 3 5\")"
   ]
  },
  {
   "cell_type": "markdown",
   "metadata": {},
   "source": [
    "5.Write a function that accepts string from user and print all permutations of that string."
   ]
  },
  {
   "cell_type": "code",
   "execution_count": 9,
   "metadata": {},
   "outputs": [
    {
     "name": "stdout",
     "output_type": "stream",
     "text": [
      "['dwsdas', 'dwsdsa', 'dwsads', 'dwsasd', 'dwssda', 'dwssad', 'dwdsas', 'dwdssa', 'dwdass', 'dwdass', 'dwdssa', 'dwdsas', 'dwasds', 'dwassd', 'dwadss', 'dwadss', 'dwassd', 'dwasds', 'dwssda', 'dwssad', 'dwsdsa', 'dwsdas', 'dwsasd', 'dwsads', 'dswdas', 'dswdsa', 'dswads', 'dswasd', 'dswsda', 'dswsad', 'dsdwas', 'dsdwsa', 'dsdaws', 'dsdasw', 'dsdswa', 'dsdsaw', 'dsawds', 'dsawsd', 'dsadws', 'dsadsw', 'dsaswd', 'dsasdw', 'dsswda', 'dsswad', 'dssdwa', 'dssdaw', 'dssawd', 'dssadw', 'ddwsas', 'ddwssa', 'ddwass', 'ddwass', 'ddwssa', 'ddwsas', 'ddswas', 'ddswsa', 'ddsaws', 'ddsasw', 'ddsswa', 'ddssaw', 'ddawss', 'ddawss', 'ddasws', 'ddassw', 'ddasws', 'ddassw', 'ddswsa', 'ddswas', 'ddsswa', 'ddssaw', 'ddsaws', 'ddsasw', 'dawsds', 'dawssd', 'dawdss', 'dawdss', 'dawssd', 'dawsds', 'daswds', 'daswsd', 'dasdws', 'dasdsw', 'dasswd', 'dassdw', 'dadwss', 'dadwss', 'dadsws', 'dadssw', 'dadsws', 'dadssw', 'daswsd', 'daswds', 'dasswd', 'dassdw', 'dasdws', 'dasdsw', 'dswsda', 'dswsad', 'dswdsa', 'dswdas', 'dswasd', 'dswads', 'dsswda', 'dsswad', 'dssdwa', 'dssdaw', 'dssawd', 'dssadw', 'dsdwsa', 'dsdwas', 'dsdswa', 'dsdsaw', 'dsdaws', 'dsdasw', 'dsawsd', 'dsawds', 'dsaswd', 'dsasdw', 'dsadws', 'dsadsw', 'wdsdas', 'wdsdsa', 'wdsads', 'wdsasd', 'wdssda', 'wdssad', 'wddsas', 'wddssa', 'wddass', 'wddass', 'wddssa', 'wddsas', 'wdasds', 'wdassd', 'wdadss', 'wdadss', 'wdassd', 'wdasds', 'wdssda', 'wdssad', 'wdsdsa', 'wdsdas', 'wdsasd', 'wdsads', 'wsddas', 'wsddsa', 'wsdads', 'wsdasd', 'wsdsda', 'wsdsad', 'wsddas', 'wsddsa', 'wsdads', 'wsdasd', 'wsdsda', 'wsdsad', 'wsadds', 'wsadsd', 'wsadds', 'wsadsd', 'wsasdd', 'wsasdd', 'wssdda', 'wssdad', 'wssdda', 'wssdad', 'wssadd', 'wssadd', 'wddsas', 'wddssa', 'wddass', 'wddass', 'wddssa', 'wddsas', 'wdsdas', 'wdsdsa', 'wdsads', 'wdsasd', 'wdssda', 'wdssad', 'wdadss', 'wdadss', 'wdasds', 'wdassd', 'wdasds', 'wdassd', 'wdsdsa', 'wdsdas', 'wdssda', 'wdssad', 'wdsads', 'wdsasd', 'wadsds', 'wadssd', 'waddss', 'waddss', 'wadssd', 'wadsds', 'wasdds', 'wasdsd', 'wasdds', 'wasdsd', 'wassdd', 'wassdd', 'waddss', 'waddss', 'wadsds', 'wadssd', 'wadsds', 'wadssd', 'wasdsd', 'wasdds', 'wassdd', 'wassdd', 'wasdds', 'wasdsd', 'wsdsda', 'wsdsad', 'wsddsa', 'wsddas', 'wsdasd', 'wsdads', 'wssdda', 'wssdad', 'wssdda', 'wssdad', 'wssadd', 'wssadd', 'wsddsa', 'wsddas', 'wsdsda', 'wsdsad', 'wsdads', 'wsdasd', 'wsadsd', 'wsadds', 'wsasdd', 'wsasdd', 'wsadds', 'wsadsd', 'sdwdas', 'sdwdsa', 'sdwads', 'sdwasd', 'sdwsda', 'sdwsad', 'sddwas', 'sddwsa', 'sddaws', 'sddasw', 'sddswa', 'sddsaw', 'sdawds', 'sdawsd', 'sdadws', 'sdadsw', 'sdaswd', 'sdasdw', 'sdswda', 'sdswad', 'sdsdwa', 'sdsdaw', 'sdsawd', 'sdsadw', 'swddas', 'swddsa', 'swdads', 'swdasd', 'swdsda', 'swdsad', 'swddas', 'swddsa', 'swdads', 'swdasd', 'swdsda', 'swdsad', 'swadds', 'swadsd', 'swadds', 'swadsd', 'swasdd', 'swasdd', 'swsdda', 'swsdad', 'swsdda', 'swsdad', 'swsadd', 'swsadd', 'sddwas', 'sddwsa', 'sddaws', 'sddasw', 'sddswa', 'sddsaw', 'sdwdas', 'sdwdsa', 'sdwads', 'sdwasd', 'sdwsda', 'sdwsad', 'sdadws', 'sdadsw', 'sdawds', 'sdawsd', 'sdasdw', 'sdaswd', 'sdsdwa', 'sdsdaw', 'sdswda', 'sdswad', 'sdsadw', 'sdsawd', 'sadwds', 'sadwsd', 'saddws', 'saddsw', 'sadswd', 'sadsdw', 'sawdds', 'sawdsd', 'sawdds', 'sawdsd', 'sawsdd', 'sawsdd', 'saddws', 'saddsw', 'sadwds', 'sadwsd', 'sadsdw', 'sadswd', 'sasdwd', 'sasddw', 'saswdd', 'saswdd', 'sasddw', 'sasdwd', 'ssdwda', 'ssdwad', 'ssddwa', 'ssddaw', 'ssdawd', 'ssdadw', 'sswdda', 'sswdad', 'sswdda', 'sswdad', 'sswadd', 'sswadd', 'ssddwa', 'ssddaw', 'ssdwda', 'ssdwad', 'ssdadw', 'ssdawd', 'ssadwd', 'ssaddw', 'ssawdd', 'ssawdd', 'ssaddw', 'ssadwd', 'ddwsas', 'ddwssa', 'ddwass', 'ddwass', 'ddwssa', 'ddwsas', 'ddswas', 'ddswsa', 'ddsaws', 'ddsasw', 'ddsswa', 'ddssaw', 'ddawss', 'ddawss', 'ddasws', 'ddassw', 'ddasws', 'ddassw', 'ddswsa', 'ddswas', 'ddsswa', 'ddssaw', 'ddsaws', 'ddsasw', 'dwdsas', 'dwdssa', 'dwdass', 'dwdass', 'dwdssa', 'dwdsas', 'dwsdas', 'dwsdsa', 'dwsads', 'dwsasd', 'dwssda', 'dwssad', 'dwadss', 'dwadss', 'dwasds', 'dwassd', 'dwasds', 'dwassd', 'dwsdsa', 'dwsdas', 'dwssda', 'dwssad', 'dwsads', 'dwsasd', 'dsdwas', 'dsdwsa', 'dsdaws', 'dsdasw', 'dsdswa', 'dsdsaw', 'dswdas', 'dswdsa', 'dswads', 'dswasd', 'dswsda', 'dswsad', 'dsadws', 'dsadsw', 'dsawds', 'dsawsd', 'dsasdw', 'dsaswd', 'dssdwa', 'dssdaw', 'dsswda', 'dsswad', 'dssadw', 'dssawd', 'dadwss', 'dadwss', 'dadsws', 'dadssw', 'dadsws', 'dadssw', 'dawdss', 'dawdss', 'dawsds', 'dawssd', 'dawsds', 'dawssd', 'dasdws', 'dasdsw', 'daswds', 'daswsd', 'dassdw', 'dasswd', 'dasdws', 'dasdsw', 'daswds', 'daswsd', 'dassdw', 'dasswd', 'dsdwsa', 'dsdwas', 'dsdswa', 'dsdsaw', 'dsdaws', 'dsdasw', 'dswdsa', 'dswdas', 'dswsda', 'dswsad', 'dswads', 'dswasd', 'dssdwa', 'dssdaw', 'dsswda', 'dsswad', 'dssadw', 'dssawd', 'dsadws', 'dsadsw', 'dsawds', 'dsawsd', 'dsasdw', 'dsaswd', 'adwsds', 'adwssd', 'adwdss', 'adwdss', 'adwssd', 'adwsds', 'adswds', 'adswsd', 'adsdws', 'adsdsw', 'adsswd', 'adssdw', 'addwss', 'addwss', 'addsws', 'addssw', 'addsws', 'addssw', 'adswsd', 'adswds', 'adsswd', 'adssdw', 'adsdws', 'adsdsw', 'awdsds', 'awdssd', 'awddss', 'awddss', 'awdssd', 'awdsds', 'awsdds', 'awsdsd', 'awsdds', 'awsdsd', 'awssdd', 'awssdd', 'awddss', 'awddss', 'awdsds', 'awdssd', 'awdsds', 'awdssd', 'awsdsd', 'awsdds', 'awssdd', 'awssdd', 'awsdds', 'awsdsd', 'asdwds', 'asdwsd', 'asddws', 'asddsw', 'asdswd', 'asdsdw', 'aswdds', 'aswdsd', 'aswdds', 'aswdsd', 'aswsdd', 'aswsdd', 'asddws', 'asddsw', 'asdwds', 'asdwsd', 'asdsdw', 'asdswd', 'assdwd', 'assddw', 'asswdd', 'asswdd', 'assddw', 'assdwd', 'addwss', 'addwss', 'addsws', 'addssw', 'addsws', 'addssw', 'adwdss', 'adwdss', 'adwsds', 'adwssd', 'adwsds', 'adwssd', 'adsdws', 'adsdsw', 'adswds', 'adswsd', 'adssdw', 'adsswd', 'adsdws', 'adsdsw', 'adswds', 'adswsd', 'adssdw', 'adsswd', 'asdwsd', 'asdwds', 'asdswd', 'asdsdw', 'asddws', 'asddsw', 'aswdsd', 'aswdds', 'aswsdd', 'aswsdd', 'aswdds', 'aswdsd', 'assdwd', 'assddw', 'asswdd', 'asswdd', 'assddw', 'assdwd', 'asddws', 'asddsw', 'asdwds', 'asdwsd', 'asdsdw', 'asdswd', 'sdwsda', 'sdwsad', 'sdwdsa', 'sdwdas', 'sdwasd', 'sdwads', 'sdswda', 'sdswad', 'sdsdwa', 'sdsdaw', 'sdsawd', 'sdsadw', 'sddwsa', 'sddwas', 'sddswa', 'sddsaw', 'sddaws', 'sddasw', 'sdawsd', 'sdawds', 'sdaswd', 'sdasdw', 'sdadws', 'sdadsw', 'swdsda', 'swdsad', 'swddsa', 'swddas', 'swdasd', 'swdads', 'swsdda', 'swsdad', 'swsdda', 'swsdad', 'swsadd', 'swsadd', 'swddsa', 'swddas', 'swdsda', 'swdsad', 'swdads', 'swdasd', 'swadsd', 'swadds', 'swasdd', 'swasdd', 'swadds', 'swadsd', 'ssdwda', 'ssdwad', 'ssddwa', 'ssddaw', 'ssdawd', 'ssdadw', 'sswdda', 'sswdad', 'sswdda', 'sswdad', 'sswadd', 'sswadd', 'ssddwa', 'ssddaw', 'ssdwda', 'ssdwad', 'ssdadw', 'ssdawd', 'ssadwd', 'ssaddw', 'ssawdd', 'ssawdd', 'ssaddw', 'ssadwd', 'sddwsa', 'sddwas', 'sddswa', 'sddsaw', 'sddaws', 'sddasw', 'sdwdsa', 'sdwdas', 'sdwsda', 'sdwsad', 'sdwads', 'sdwasd', 'sdsdwa', 'sdsdaw', 'sdswda', 'sdswad', 'sdsadw', 'sdsawd', 'sdadws', 'sdadsw', 'sdawds', 'sdawsd', 'sdasdw', 'sdaswd', 'sadwsd', 'sadwds', 'sadswd', 'sadsdw', 'saddws', 'saddsw', 'sawdsd', 'sawdds', 'sawsdd', 'sawsdd', 'sawdds', 'sawdsd', 'sasdwd', 'sasddw', 'saswdd', 'saswdd', 'sasddw', 'sasdwd', 'saddws', 'saddsw', 'sadwds', 'sadwsd', 'sadsdw', 'sadswd']\n"
     ]
    }
   ],
   "source": [
    "from itertools import permutations\n",
    "def strper(s):\n",
    "    return [''.join(p) for p in permutations(s)]\n",
    "\n",
    "print(strper(\"dwsdas\"))"
   ]
  },
  {
   "cell_type": "markdown",
   "metadata": {},
   "source": [
    "6.Write a function that accepts string from user, return a sentence with the words reversed. We are ready -> ready are We"
   ]
  },
  {
   "cell_type": "code",
   "execution_count": 1,
   "metadata": {},
   "outputs": [
    {
     "name": "stdout",
     "output_type": "stream",
     "text": [
      "ready are We "
     ]
    }
   ],
   "source": [
    "def rsentence(str):\n",
    "    words = str.split()\n",
    "    words.reverse()\n",
    "    for i in words:\n",
    "        print(i, end = \" \")\n",
    "\n",
    "rsentence(\"We are ready\")"
   ]
  },
  {
   "cell_type": "markdown",
   "metadata": {},
   "source": [
    "7.Given a list of ints, return True if the array contains a 3 next to a 3 somewhere."
   ]
  },
  {
   "cell_type": "code",
   "execution_count": 40,
   "metadata": {},
   "outputs": [
    {
     "name": "stdout",
     "output_type": "stream",
     "text": [
      "True\n"
     ]
    }
   ],
   "source": [
    "def has_33(nums):\n",
    "    for i in range(1,len(nums)):\n",
    "        if nums[i] == 3 and nums[i - 1] == 3:\n",
    "            return True\n",
    "\n",
    "print(has_33([1, 3, 3, 1, 3]))\n"
   ]
  },
  {
   "cell_type": "markdown",
   "metadata": {},
   "source": [
    "8.Write a function that takes in a list of integers and returns True if it contains 007 in order"
   ]
  },
  {
   "cell_type": "code",
   "execution_count": 14,
   "metadata": {},
   "outputs": [
    {
     "name": "stdout",
     "output_type": "stream",
     "text": [
      "True\n"
     ]
    }
   ],
   "source": [
    "def spy_game(nums):\n",
    "    code = [0, 0, 7]\n",
    "    for i in nums:\n",
    "        if i == code[0]:\n",
    "            code.pop(0)\n",
    "        if len(code) == 0:\n",
    "            return True\n",
    "    return False\n",
    "print(spy_game([1,0,2,4,0,5,7]))"
   ]
  },
  {
   "cell_type": "markdown",
   "metadata": {},
   "source": [
    "9.Write a function that computes the volume of a sphere given its radius."
   ]
  },
  {
   "cell_type": "code",
   "execution_count": 4,
   "metadata": {},
   "outputs": [
    {
     "name": "stdout",
     "output_type": "stream",
     "text": [
      "113.09733552923254\n"
     ]
    }
   ],
   "source": [
    "from math import pi\n",
    "def volume(radius):\n",
    "    print(4/3*pi*(radius**3) )\n",
    "volume(3)"
   ]
  },
  {
   "cell_type": "markdown",
   "metadata": {},
   "source": [
    "10.Write a Python function that takes a list and returns a new list with unique elements of the first list. Note: don't use collection set."
   ]
  },
  {
   "cell_type": "code",
   "execution_count": 7,
   "metadata": {},
   "outputs": [
    {
     "name": "stdout",
     "output_type": "stream",
     "text": [
      "[3, 4, 2, 5, 243, 43, 42, 24]\n"
     ]
    }
   ],
   "source": [
    "def uniqueueue(lists):\n",
    "    unique=[]\n",
    "    for i in range(0,len(lists)):\n",
    "        if lists[i] not in unique:\n",
    "            unique.append(lists[i])\n",
    "\n",
    "    return unique\n",
    "\n",
    "print(uniqueueue([3,4,2,3,5,243, 43 ,2 ,3,3,2,42,4,24,2,4]))"
   ]
  },
  {
   "cell_type": "markdown",
   "metadata": {},
   "source": [
    "11.Write a Python function that checks whether a word or phrase is palindrome or not. Note: A palindrome is word, phrase, or sequence that reads the same backward as forward, e.g., madam"
   ]
  },
  {
   "cell_type": "code",
   "execution_count": 10,
   "metadata": {},
   "outputs": [
    {
     "name": "stdout",
     "output_type": "stream",
     "text": [
      "True\n"
     ]
    }
   ],
   "source": [
    "def ispolindrome(word):\n",
    "    if word == word[::-1]:\n",
    "        return True\n",
    "    else:\n",
    "        return False\n",
    "    \n",
    "print(ispolindrome(\"madam\"))"
   ]
  },
  {
   "cell_type": "markdown",
   "metadata": {},
   "source": [
    "12.Define a functino histogram() that takes a list of integers and prints a histogram to the screen. For example, histogram([4, 9, 7]) should print the following:"
   ]
  },
  {
   "cell_type": "code",
   "execution_count": 13,
   "metadata": {},
   "outputs": [
    {
     "name": "stdout",
     "output_type": "stream",
     "text": [
      "****\n",
      "*********\n",
      "*******\n"
     ]
    }
   ],
   "source": [
    "def histogram(uouou):\n",
    "    for i in uouou:\n",
    "        print('*'*i, end=\"\\n\")\n",
    "\n",
    "histogram([4, 9, 7])"
   ]
  },
  {
   "cell_type": "markdown",
   "metadata": {},
   "source": [
    "13.Write a program able to play the \"Guess the number\" - game, where the number to be guessed is randomly chosen between 1 and 20. This is how it should work when run in a terminal:"
   ]
  },
  {
   "cell_type": "code",
   "execution_count": 4,
   "metadata": {},
   "outputs": [
    {
     "name": "stdout",
     "output_type": "stream",
     "text": [
      "Well, kt, I am thinking of a guess between 1 and 20.\n",
      "Your guess is too high.\n",
      "Your guess is too high.\n",
      "Your guess is too high.\n",
      "Your guess is too low.\n",
      "Your guess is too high.\n",
      "Your guess is too high.\n",
      "Your guess is too low.\n",
      "Your guess is too low.\n",
      "Your guess is too high.\n",
      "Your guess is too high.\n",
      "Good job, kt! You guessed my guess in 11 count!\n"
     ]
    }
   ],
   "source": [
    "import random\n",
    "def guessTheNumber():\n",
    "    san = random.randint(1,21)\n",
    "    name = input(\"Hello! What is your name?\\n\")\n",
    "    print(f\"Well, {name}, I am thinking of a guess between 1 and 20.\")\n",
    "    count = 0\n",
    "    while True:\n",
    "        guess = int(input(\"Take a guess.\\n\"))\n",
    "        count += 1\n",
    "        if guess < san:\n",
    "            print(\"Your guess is too low.\")\n",
    "        elif guess > san:\n",
    "            print(\"Your guess is too high.\")\n",
    "        else:\n",
    "            print(f\"Good job, {name}! You guessed my guess in {count} count!\")\n",
    "            break\n",
    "            \n",
    "guessTheNumber()"
   ]
  }
 ],
 "metadata": {
  "kernelspec": {
   "display_name": "Python 3",
   "language": "python",
   "name": "python3"
  },
  "language_info": {
   "codemirror_mode": {
    "name": "ipython",
    "version": 3
   },
   "file_extension": ".py",
   "mimetype": "text/x-python",
   "name": "python",
   "nbconvert_exporter": "python",
   "pygments_lexer": "ipython3",
   "version": "3.13.0"
  }
 },
 "nbformat": 4,
 "nbformat_minor": 2
}
