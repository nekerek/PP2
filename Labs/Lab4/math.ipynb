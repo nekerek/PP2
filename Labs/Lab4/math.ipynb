{
 "cells": [
  {
   "cell_type": "markdown",
   "metadata": {},
   "source": [
    "1.Write a Python program to convert degree to radian.\n",
    "Input degree: 15\n",
    "Output radian: 0.261904"
   ]
  },
  {
   "cell_type": "code",
   "execution_count": 3,
   "metadata": {},
   "outputs": [
    {
     "name": "stdout",
     "output_type": "stream",
     "text": [
      "Output radian: 0.2617993877991494\n"
     ]
    }
   ],
   "source": [
    "import math\n",
    "x = float(input(\"Input degree: \"))\n",
    "print(f\"Output radian: {math.radians(x)}\")"
   ]
  },
  {
   "cell_type": "markdown",
   "metadata": {},
   "source": [
    "2.Write a Python program to calculate the area of a trapezoid.\n",
    "Height: 5\n",
    "Base, first value: 5\n",
    "Base, second value: 6\n",
    "Expected Output: 27.5\n"
   ]
  },
  {
   "cell_type": "code",
   "execution_count": 4,
   "metadata": {},
   "outputs": [
    {
     "name": "stdout",
     "output_type": "stream",
     "text": [
      "Expected Output: 27.5\n"
     ]
    }
   ],
   "source": [
    "a = float(input(\"Height: \"))\n",
    "b = float(input(\"Base, first value: \"))\n",
    "c = float(input(\"Base, second value: \"))\n",
    "\n",
    "print(f\"Expected Output: {(b+c)/2*a}\")"
   ]
  },
  {
   "cell_type": "markdown",
   "metadata": {},
   "source": [
    "3.Write a Python program to calculate the area of regular polygon.\n",
    "Input number of sides: 4\n",
    "Input the length of a side: 25\n",
    "The area of the polygon is: 625"
   ]
  },
  {
   "cell_type": "code",
   "execution_count": 9,
   "metadata": {},
   "outputs": [
    {
     "name": "stdout",
     "output_type": "stream",
     "text": [
      "The area of the polygon is: 625.0000000000001\n"
     ]
    }
   ],
   "source": [
    "from math import tan, radians\n",
    "n = int(input(\"Input number of sides: \"))\n",
    "l = int(input(\"Input the length of a side: \"))\n",
    "area = n/4*l**2/tan(radians(180/n))\n",
    "print(f\"The area of the polygon is: {area}\")"
   ]
  },
  {
   "cell_type": "markdown",
   "metadata": {},
   "source": [
    "4.Write a Python program to calculate the area of a parallelogram.\n",
    "Length of base: 5\n",
    "Height of parallelogram: 6\n",
    "Expected Output: 30.0"
   ]
  },
  {
   "cell_type": "code",
   "execution_count": 10,
   "metadata": {},
   "outputs": [
    {
     "name": "stdout",
     "output_type": "stream",
     "text": [
      "Expected Output: 30.0\n"
     ]
    }
   ],
   "source": [
    "from math import tan, radians\n",
    "l = float(input(\"Length of base: \"))\n",
    "h = float(input(\"Height of parallelogram: \"))\n",
    "print(f\"Expected Output: {l*h}\")"
   ]
  }
 ],
 "metadata": {
  "kernelspec": {
   "display_name": "Python 3",
   "language": "python",
   "name": "python3"
  },
  "language_info": {
   "codemirror_mode": {
    "name": "ipython",
    "version": 3
   },
   "file_extension": ".py",
   "mimetype": "text/x-python",
   "name": "python",
   "nbconvert_exporter": "python",
   "pygments_lexer": "ipython3",
   "version": "3.13.0"
  }
 },
 "nbformat": 4,
 "nbformat_minor": 2
}
