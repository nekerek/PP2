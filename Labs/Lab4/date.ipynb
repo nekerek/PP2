{
 "cells": [
  {
   "cell_type": "markdown",
   "metadata": {},
   "source": [
    "1.Write a Python program to subtract five days from current date.\n"
   ]
  },
  {
   "cell_type": "code",
   "execution_count": 1,
   "metadata": {},
   "outputs": [
    {
     "name": "stdout",
     "output_type": "stream",
     "text": [
      "Today: 2025-02-19 23:04:41.764600\n",
      "5 days ago: 2025-02-14 23:04:41.764600\n"
     ]
    }
   ],
   "source": [
    "import datetime\n",
    "time = datetime.datetime.now()\n",
    "print(\"Today: \"+str(time))\n",
    "day = datetime.timedelta(days=1)\n",
    "time -= day*5\n",
    "print(\"5 days ago: \"+str(time))"
   ]
  },
  {
   "cell_type": "markdown",
   "metadata": {},
   "source": [
    "\n",
    "2.Write a Python program to print yesterday, today, tomorrow."
   ]
  },
  {
   "cell_type": "code",
   "execution_count": 5,
   "metadata": {},
   "outputs": [
    {
     "name": "stdout",
     "output_type": "stream",
     "text": [
      "2025-02-18 23:08:30.378378\n",
      "2025-02-19 23:08:30.378414\n",
      "2025-02-20 23:08:30.378414\n"
     ]
    }
   ],
   "source": [
    "import datetime\n",
    "yesterday = datetime.datetime.today() - datetime.timedelta(days = 1)\n",
    "today = datetime.datetime.now()\n",
    "tomorrow = today + datetime.timedelta(days = 1)\n",
    "print(yesterday)\n",
    "print(today)\n",
    "print(tomorrow)"
   ]
  },
  {
   "cell_type": "markdown",
   "metadata": {},
   "source": [
    "3.Write a Python program to drop microseconds from datetime."
   ]
  },
  {
   "cell_type": "code",
   "execution_count": 2,
   "metadata": {},
   "outputs": [
    {
     "name": "stdout",
     "output_type": "stream",
     "text": [
      "2025-02-19 23:05:25.525868\n",
      "0:00:00.525868\n",
      "2025-02-19 23:05:25\n"
     ]
    }
   ],
   "source": [
    "from datetime import datetime, timedelta\n",
    "time = datetime.now()\n",
    "micros = timedelta(microseconds = time.microsecond)\n",
    "print(time)\n",
    "print(micros)\n",
    "time-=micros\n",
    "print(time)"
   ]
  },
  {
   "cell_type": "markdown",
   "metadata": {},
   "source": [
    "4.Write a Python program to calculate two date difference in seconds."
   ]
  },
  {
   "cell_type": "code",
   "execution_count": null,
   "metadata": {},
   "outputs": [
    {
     "name": "stdout",
     "output_type": "stream",
     "text": [
      "['__abs__', '__add__', '__bool__', '__class__', '__delattr__', '__dir__', '__divmod__', '__doc__', '__eq__', '__floordiv__', '__format__', '__ge__', '__getattribute__', '__getstate__', '__gt__', '__hash__', '__init__', '__init_subclass__', '__le__', '__lt__', '__mod__', '__mul__', '__ne__', '__neg__', '__new__', '__pos__', '__radd__', '__rdivmod__', '__reduce__', '__reduce_ex__', '__repr__', '__rfloordiv__', '__rmod__', '__rmul__', '__rsub__', '__rtruediv__', '__setattr__', '__sizeof__', '__str__', '__sub__', '__subclasshook__', '__truediv__', 'days', 'max', 'microseconds', 'min', 'resolution', 'seconds', 'total_seconds']\n",
      "-86400.0\n"
     ]
    }
   ],
   "source": [
    "from datetime import datetime, timedelta\n",
    "print(dir(timedelta))\n",
    "d,m,y = map(int, input(\"Enter the first date (dd/mm/yyyy): \").split(\"/\"))\n",
    "time1 = datetime(day = d, month = m, year=y)\n",
    "d,m,y = map(int, input(\"Enter the second date (dd/mm/yyyy): \").split(\"/\"))\n",
    "time2 = datetime(day = d, month = m, year=y)\n",
    "x = time2-time1\n",
    "print(x.total_seconds())"
   ]
  }
 ],
 "metadata": {
  "kernelspec": {
   "display_name": "Python 3",
   "language": "python",
   "name": "python3"
  },
  "language_info": {
   "codemirror_mode": {
    "name": "ipython",
    "version": 3
   },
   "file_extension": ".py",
   "mimetype": "text/x-python",
   "name": "python",
   "nbconvert_exporter": "python",
   "pygments_lexer": "ipython3",
   "version": "3.13.0"
  }
 },
 "nbformat": 4,
 "nbformat_minor": 2
}
