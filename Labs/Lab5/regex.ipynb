{
 "cells": [
  {
   "cell_type": "markdown",
   "metadata": {},
   "source": [
    "Write a Python program that matches a string that has an 'a' followed by zero or more 'b''s."
   ]
  },
  {
   "cell_type": "code",
   "execution_count": null,
   "metadata": {},
   "outputs": [],
   "source": [
    "#проверяет на наличие b после a\n",
    "import re\n",
    "txt = input(\"Enter a word: \")\n",
    "a = r\"ab*.*\"\n",
    "if re.fullmatch(a, txt):\n",
    "    print(\"Mathces\")\n",
    "else:\n",
    "    print(\"Does not match\")"
   ]
  },
  {
   "cell_type": "markdown",
   "metadata": {},
   "source": [
    "Write a Python program that matches a string that has an 'a' followed by two to three 'b'."
   ]
  },
  {
   "cell_type": "code",
   "execution_count": null,
   "metadata": {},
   "outputs": [],
   "source": [
    "#проверяет наличие b(2-3 штук) после a\n",
    "import re\n",
    "txt = input(\"Enter a word: \")\n",
    "a = r\"ab{2,3}\"\n",
    "if re.fullmatch(a, txt):\n",
    "    print(\"Matches\")\n",
    "else:\n",
    "    print(\"Does not match!\")"
   ]
  },
  {
   "cell_type": "markdown",
   "metadata": {},
   "source": [
    "Write a Python program to find sequences of lowercase letters joined with a underscore."
   ]
  },
  {
   "cell_type": "code",
   "execution_count": null,
   "metadata": {},
   "outputs": [],
   "source": [
    "#ищет последовательности строчных букв,соединённых одним подчёркиванием\n",
    "import re\n",
    "def sequence(txt):\n",
    "    a = r'\\b[a-z]+_[a-z]+\\b'\n",
    "    match = re.findall(a, txt)\n",
    "    return match\n",
    "txt = input(\"Enter a sentence: \")\n",
    "matches = sequence(txt)\n",
    "if matches:\n",
    "    print(f\"Found matches: {matches}\")\n",
    "else:\n",
    "    print(\"Does not match\")"
   ]
  },
  {
   "cell_type": "markdown",
   "metadata": {},
   "source": [
    "Write a Python program to find the sequences of one upper case letter followed by lower case letters."
   ]
  },
  {
   "cell_type": "code",
   "execution_count": null,
   "metadata": {},
   "outputs": [],
   "source": [
    "#проверяет наличие одной заглавной буквы,за которой следуют строчные буквы\n",
    "import re\n",
    "def find(text):\n",
    "    a = r'\\b[a-z]+_[a-z]+\\b'\n",
    "    res = re.findall(a, text)\n",
    "    return res\n",
    "b = input(\"Enter a sentence: \")\n",
    "sequences = find(b)\n",
    "if sequences:\n",
    "    print(\"Found sequences:\", sequences)\n",
    "else:\n",
    "    print(\"Does not match\")"
   ]
  },
  {
   "cell_type": "markdown",
   "metadata": {},
   "source": [
    "Write a Python program that matches a string that has an 'a' followed by anything, ending in 'b'."
   ]
  },
  {
   "cell_type": "code",
   "execution_count": null,
   "metadata": {},
   "outputs": [],
   "source": [
    "#проверяет наличие 'a', за которой следует любая последовательность символов и заканчивается на 'b'\n",
    "import re\n",
    "a = r\"a.*b\"\n",
    "text = input(\"Enter a word: \")\n",
    "if re.fullmatch(a, text):\n",
    "    print(\"Matches\")\n",
    "else:\n",
    "    print(\"Does not match!\")"
   ]
  },
  {
   "cell_type": "markdown",
   "metadata": {},
   "source": [
    "Write a Python program to replace all occurrences of space, comma, or dot with a colon."
   ]
  },
  {
   "cell_type": "code",
   "execution_count": null,
   "metadata": {},
   "outputs": [],
   "source": [
    "#заменяет все пробелы, запятые и точки на двоеточие\n",
    "import re\n",
    "text = input(\"Enter a string: \")\n",
    "res = re.sub(r\"[ ,.]\", \":\", text)\n",
    "print(res)"
   ]
  },
  {
   "cell_type": "markdown",
   "metadata": {},
   "source": [
    "Write a python program to convert snake case string to camel case string."
   ]
  },
  {
   "cell_type": "code",
   "execution_count": null,
   "metadata": {},
   "outputs": [],
   "source": [
    "#из snake_case в camelCase \n",
    "import re\n",
    "def snake_to_camel(snake):\n",
    "    return re.sub(r'_([a-z])', lambda match:match.group(1).upper(), snake)\n",
    "text = input(\"Enter a snake case string: \")\n",
    "camel = snake_to_camel(text)\n",
    "print(\"Camel case string:\", camel)"
   ]
  },
  {
   "cell_type": "markdown",
   "metadata": {},
   "source": [
    "Write a Python program to split a string at uppercase letters."
   ]
  },
  {
   "cell_type": "code",
   "execution_count": null,
   "metadata": {},
   "outputs": [],
   "source": [
    "#для разделения строки на основе заглавных букв\n",
    "import re\n",
    "text = input(\"Enter a string: \")\n",
    "split = re.findall(r'[A-Z][a-z]*', text)\n",
    "print(split)"
   ]
  },
  {
   "cell_type": "markdown",
   "metadata": {},
   "source": [
    "Write a Python program to insert spaces between words starting with capital letters."
   ]
  },
  {
   "cell_type": "code",
   "execution_count": null,
   "metadata": {},
   "outputs": [],
   "source": [
    "#вставляет пробелы перед словами,начинающимися с заглавной буквы\n",
    "import re\n",
    "text = input(\"Enter a string: \")\n",
    "res = re.sub(r'(?<!^)([A-Z])', r' \\1', text)\n",
    "print(res)"
   ]
  },
  {
   "cell_type": "markdown",
   "metadata": {},
   "source": [
    "Write a Python program to convert a given camel case string to snake case."
   ]
  },
  {
   "cell_type": "code",
   "execution_count": null,
   "metadata": {},
   "outputs": [],
   "source": [
    "#преобразования строки из camel case в snake case\n",
    "import re\n",
    "text = input(\"Enter a camel case string: \")\n",
    "snake = re.sub(r'([A-Z])', r'_\\1', text).lower()\n",
    "print(snake)\n",
    "if snake.startswith('_'):\n",
    "    snake = snake[1:]\n",
    "print(snake)"
   ]
  }
 ],
 "metadata": {
  "language_info": {
   "name": "python"
  }
 },
 "nbformat": 4,
 "nbformat_minor": 2
}
